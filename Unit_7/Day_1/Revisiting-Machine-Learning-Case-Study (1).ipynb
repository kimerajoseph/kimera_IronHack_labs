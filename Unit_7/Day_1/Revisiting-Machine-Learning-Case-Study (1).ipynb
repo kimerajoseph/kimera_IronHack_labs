{
 "cells": [
  {
   "cell_type": "code",
   "execution_count": null,
   "id": "bb605dbc",
   "metadata": {},
   "outputs": [],
   "source": [
    "import pandas as pd\n",
    "import numpy as np\n",
    "import matplotlib.pyplot as plt\n",
    "import seaborn as sns \n",
    "pd.set_option('display.max_columns', None)\n"
   ]
  },
  {
   "cell_type": "code",
   "execution_count": null,
   "id": "1d39b3a8",
   "metadata": {},
   "outputs": [],
   "source": [
    "data = pd.read_csv('learningSet.csv')"
   ]
  },
  {
   "cell_type": "code",
   "execution_count": null,
   "id": "d95b916e",
   "metadata": {},
   "outputs": [],
   "source": [
    "data.shape"
   ]
  },
  {
   "cell_type": "code",
   "execution_count": null,
   "id": "e56055f4",
   "metadata": {},
   "outputs": [],
   "source": [
    "#data = data.apply(lambda x: x.replace(' ', np.NaN))"
   ]
  },
  {
   "cell_type": "code",
   "execution_count": null,
   "id": "45b4107a",
   "metadata": {},
   "outputs": [],
   "source": [
    "cols = []\n",
    "for col in data.columns:\n",
    "    cols.append(col.lower())\n",
    "data.columns = cols\n",
    "data.columns"
   ]
  },
  {
   "cell_type": "code",
   "execution_count": null,
   "id": "4aaeabf4",
   "metadata": {},
   "outputs": [],
   "source": []
  },
  {
   "cell_type": "markdown",
   "id": "0be37eb4",
   "metadata": {},
   "source": [
    "# Cheking for null values"
   ]
  },
  {
   "cell_type": "markdown",
   "id": "648a1f13",
   "metadata": {},
   "source": [
    "## Replace empty strings with NaN"
   ]
  },
  {
   "cell_type": "code",
   "execution_count": null,
   "id": "2f498129",
   "metadata": {},
   "outputs": [],
   "source": [
    "data = data.apply(lambda x: x.replace(\" \", np.NaN))"
   ]
  },
  {
   "cell_type": "code",
   "execution_count": null,
   "id": "4d2e835c",
   "metadata": {},
   "outputs": [],
   "source": [
    "categorical = data.select_dtypes(object)\n",
    "categorical.shape"
   ]
  },
  {
   "cell_type": "code",
   "execution_count": null,
   "id": "2a9ae602",
   "metadata": {},
   "outputs": [],
   "source": [
    "categorical.isna().sum()"
   ]
  },
  {
   "cell_type": "markdown",
   "id": "c65a161a",
   "metadata": {},
   "source": [
    "## Exclude the following variables by looking at the definitions"
   ]
  },
  {
   "cell_type": "code",
   "execution_count": null,
   "id": "a5120d79",
   "metadata": {},
   "outputs": [],
   "source": [
    "categorical['osource'].value_counts()"
   ]
  },
  {
   "cell_type": "code",
   "execution_count": null,
   "id": "206d89f9",
   "metadata": {},
   "outputs": [],
   "source": [
    "drop_list = ['osource', 'zip']"
   ]
  },
  {
   "cell_type": "markdown",
   "id": "8c7e4560",
   "metadata": {},
   "source": [
    "## Identify columns that over 85% missing values"
   ]
  },
  {
   "cell_type": "code",
   "execution_count": null,
   "id": "1e481a19",
   "metadata": {},
   "outputs": [],
   "source": [
    "perc_null = pd.DataFrame(categorical.isna().sum()/len(data)).reset_index()\n",
    "perc_null.columns = ['column', 'percentage']\n",
    "perc_null"
   ]
  },
  {
   "cell_type": "code",
   "execution_count": null,
   "id": "b1127ace",
   "metadata": {},
   "outputs": [],
   "source": [
    "over_85_cols = perc_null[perc_null['percentage'] > 0.85]\n",
    "over_85_cols"
   ]
  },
  {
   "cell_type": "code",
   "execution_count": null,
   "id": "33d9549c",
   "metadata": {},
   "outputs": [],
   "source": [
    "over_85_cols_list = list(over_85_cols['column'])\n",
    "over_85_cols_list"
   ]
  },
  {
   "cell_type": "markdown",
   "id": "bd121063",
   "metadata": {},
   "source": [
    "## Remove columns from the dataframe"
   ]
  },
  {
   "cell_type": "code",
   "execution_count": null,
   "id": "c0b070c2",
   "metadata": {},
   "outputs": [],
   "source": [
    "categorical = categorical.drop(over_85_cols_list, axis = 1)\n",
    "categorical.shape"
   ]
  },
  {
   "cell_type": "markdown",
   "id": "6d4a85c0",
   "metadata": {},
   "source": [
    "## Reduce the number of categories in the column GENDER"
   ]
  },
  {
   "cell_type": "code",
   "execution_count": null,
   "id": "993a6690",
   "metadata": {},
   "outputs": [],
   "source": [
    "categorical['gender'].value_counts(dropna = False)"
   ]
  },
  {
   "cell_type": "markdown",
   "id": "2d4bca61",
   "metadata": {},
   "source": [
    "## Fill NaN with 'F'"
   ]
  },
  {
   "cell_type": "code",
   "execution_count": null,
   "id": "4993e8bd",
   "metadata": {},
   "outputs": [],
   "source": [
    "categorical['gender'] = categorical['gender'].fillna('F')"
   ]
  },
  {
   "cell_type": "code",
   "execution_count": null,
   "id": "6c4c3651",
   "metadata": {},
   "outputs": [],
   "source": [
    "categorical['gender'].value_counts(dropna = False)"
   ]
  },
  {
   "cell_type": "code",
   "execution_count": null,
   "id": "bc30a8d5",
   "metadata": {},
   "outputs": [],
   "source": [
    "def clean_gender(x):\n",
    "    x = str(x)\n",
    "    if x == 'F' or x== 'M':\n",
    "        return x\n",
    "    \n",
    "    else:\n",
    "        return 'others'\n",
    "    \n",
    "categorical['gender'] = categorical['gender'].apply(lambda x: clean_gender(x))"
   ]
  },
  {
   "cell_type": "code",
   "execution_count": null,
   "id": "ded27af4",
   "metadata": {},
   "outputs": [],
   "source": [
    "categorical['gender'].value_counts()"
   ]
  }
 ],
 "metadata": {
  "kernelspec": {
   "display_name": "Python 3 (ipykernel)",
   "language": "python",
   "name": "python3"
  },
  "language_info": {
   "codemirror_mode": {
    "name": "ipython",
    "version": 3
   },
   "file_extension": ".py",
   "mimetype": "text/x-python",
   "name": "python",
   "nbconvert_exporter": "python",
   "pygments_lexer": "ipython3",
   "version": "3.8.12"
  }
 },
 "nbformat": 4,
 "nbformat_minor": 5
}
